{
 "cells": [
  {
   "cell_type": "markdown",
   "metadata": {},
   "source": [
    "# t-SNE: t-DISTRIBUTED STOCHASTIC NEIGHBOR EMBEDDING\n",
    "\n",
    "**File:** tSNE.ipynb\n",
    "\n",
    "**Course:** Data Science Foundations: Data Mining in Python\n"
   ]
  },
  {
   "cell_type": "markdown",
   "metadata": {},
   "source": [
    "# IMPORT LIBRARIES"
   ]
  },
  {
   "cell_type": "code",
   "execution_count": null,
   "metadata": {},
   "outputs": [],
   "source": [
    "import pandas as pd                # For dataframe\n",
    "import matplotlib.pyplot as plt    # For plotting data\n",
    "import seaborn as sns              # For plotting data\n",
    "from sklearn.manifold import TSNE  # For tSNE"
   ]
  },
  {
   "cell_type": "markdown",
   "metadata": {},
   "source": [
    "# LOAD AND PREPARE DATA\n",
    "\n",
    "Load the complete dataset (as opposed to the training or testing data) from the CSV file in the data directory. Separate the data matrix from the class variable. Name the data matrix as `df` and the column with class labels as `y`."
   ]
  },
  {
   "cell_type": "code",
   "execution_count": null,
   "metadata": {},
   "outputs": [],
   "source": [
    "# Imports the complete dataset\n",
    "df = pd.read_csv('data/optdigits.csv')\n",
    "\n",
    "# Separates the attributes P0-P63 into X\n",
    "X = df.filter(regex='\\d')\n",
    "\n",
    "# Separates the class variable into y\n",
    "y = df.y"
   ]
  },
  {
   "cell_type": "code",
   "execution_count": null,
   "metadata": {},
   "outputs": [],
   "source": [
    "# Shows the first few rows of the data\n",
    "df.head()"
   ]
  },
  {
   "cell_type": "markdown",
   "metadata": {},
   "source": [
    "# t-SNE: MODEL DATA\n",
    "\n",
    "This phase applies t-SNE to the training data with various values of the perplexity parameter and displays embeddings of data."
   ]
  },
  {
   "cell_type": "code",
   "execution_count": null,
   "metadata": {},
   "outputs": [],
   "source": [
    "# Sets up the t-SNE object with 2 components\n",
    "tsne = TSNE(\n",
    "    n_components=2,\n",
    "    random_state=1)"
   ]
  },
  {
   "cell_type": "code",
   "execution_count": null,
   "metadata": {},
   "outputs": [],
   "source": [
    "# Displays the t-SNE parameters\n",
    "tsne.get_params()"
   ]
  },
  {
   "cell_type": "markdown",
   "metadata": {},
   "source": [
    "## PERPLEXITY = 1"
   ]
  },
  {
   "cell_type": "code",
   "execution_count": null,
   "metadata": {},
   "outputs": [],
   "source": [
    "# Sets up t-SNE with perplexity = 1\n",
    "tsne = TSNE(\n",
    "    n_components=2,\n",
    "    perplexity=1,\n",
    "    random_state=1)\n",
    "\n",
    "# Transforms the attribute data\n",
    "X_tf = tsne.fit_transform(X)\n",
    "\n",
    "# Creates a scatterplot of the data embedding\n",
    "sns.scatterplot(\n",
    "    x=X_tf[:, 0],\n",
    "    y=X_tf[:, 1],\n",
    "    style=y,\n",
    "    hue=y,\n",
    "    palette=['red', 'green', 'blue'])"
   ]
  },
  {
   "cell_type": "markdown",
   "metadata": {},
   "source": [
    "## PERPLEXITY = 2"
   ]
  },
  {
   "cell_type": "code",
   "execution_count": null,
   "metadata": {},
   "outputs": [],
   "source": [
    "# Sets up t-SNE with perplexity = 2\n",
    "tsne = TSNE(\n",
    "    n_components=2,\n",
    "    perplexity=2,\n",
    "    random_state=1)\n",
    "\n",
    "# Transforms the attribute data\n",
    "X_tf = tsne.fit_transform(X)\n",
    "\n",
    "# Creates a scatterplot of the data embedding\n",
    "sns.scatterplot(\n",
    "    x=X_tf[:, 0],\n",
    "    y=X_tf[:, 1],\n",
    "    style=y,\n",
    "    hue=y,\n",
    "    palette=['red', 'green', 'blue'])"
   ]
  },
  {
   "cell_type": "markdown",
   "metadata": {},
   "source": [
    "## PERPLEXITY = 5"
   ]
  },
  {
   "cell_type": "code",
   "execution_count": null,
   "metadata": {},
   "outputs": [],
   "source": [
    "# Sets up t-SNE with perplexity = 5\n",
    "tsne = TSNE(\n",
    "    n_components=2,\n",
    "    perplexity=5,\n",
    "    random_state=1)\n",
    "\n",
    "# Transforms the attribute data\n",
    "X_tf = tsne.fit_transform(X)\n",
    "\n",
    "# Creates a scatterplot of the data embedding\n",
    "sns.scatterplot(\n",
    "    x=X_tf[:, 0],\n",
    "    y=X_tf[:, 1],\n",
    "    style=y,\n",
    "    hue=y,\n",
    "    palette=['red', 'green', 'blue'])"
   ]
  },
  {
   "cell_type": "markdown",
   "metadata": {},
   "source": [
    "## PERPLEXITY = 10"
   ]
  },
  {
   "cell_type": "code",
   "execution_count": null,
   "metadata": {},
   "outputs": [],
   "source": [
    "# Sets up t-SNE with perplexity = 10\n",
    "tsne = TSNE(\n",
    "    n_components=2,\n",
    "    perplexity=10,\n",
    "    random_state=1)\n",
    "\n",
    "# Transforms the attribute data\n",
    "X_tf = tsne.fit_transform(X)\n",
    "\n",
    "# Creates a scatterplot of the data embedding\n",
    "sns.scatterplot(\n",
    "    x=X_tf[:, 0],\n",
    "    y=X_tf[:, 1],\n",
    "    style=y,\n",
    "    hue=y,\n",
    "    palette=['red', 'green', 'blue'])"
   ]
  },
  {
   "cell_type": "markdown",
   "metadata": {},
   "source": [
    "## PERPLEXITY = 50"
   ]
  },
  {
   "cell_type": "code",
   "execution_count": null,
   "metadata": {},
   "outputs": [],
   "source": [
    "# Sets up t-SNE with perplexity = 50\n",
    "tsne = TSNE(\n",
    "    n_components=2,\n",
    "    perplexity=50,\n",
    "    random_state=1)\n",
    "\n",
    "# Transforms the attribute data\n",
    "X_tf = tsne.fit_transform(X)\n",
    "\n",
    "# Creates a scatterplot of the data embedding\n",
    "sns.scatterplot(\n",
    "    x=X_tf[:, 0],\n",
    "    y=X_tf[:, 1],\n",
    "    style=y,\n",
    "    hue=y,\n",
    "    palette=['red', 'green', 'blue'])"
   ]
  },
  {
   "cell_type": "markdown",
   "metadata": {},
   "source": [
    "# CLEAN UP\n",
    "\n",
    "- If desired, clear the results with Cell > All Output > Clear. \n",
    "- Save your work by selecting File > Save and Checkpoint.\n",
    "- Shut down the Python kernel and close the file by selecting File > Close and Halt."
   ]
  }
 ],
 "metadata": {
  "kernelspec": {
   "display_name": "Python 3",
   "language": "python",
   "name": "python3"
  },
  "language_info": {
   "codemirror_mode": {
    "name": "ipython",
    "version": 3
   },
   "file_extension": ".py",
   "mimetype": "text/x-python",
   "name": "python",
   "nbconvert_exporter": "python",
   "pygments_lexer": "ipython3",
   "version": "3.7.9"
  }
 },
 "nbformat": 4,
 "nbformat_minor": 4
}
