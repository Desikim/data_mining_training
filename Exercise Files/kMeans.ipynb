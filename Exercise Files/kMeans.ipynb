{
 "cells": [
  {
   "cell_type": "markdown",
   "metadata": {},
   "source": [
    "# k-MEANS CLUSTERING\n",
    "\n",
    "**File:** kMeans.ipynb\n",
    "\n",
    "**Course:** Data Science Foundations: Data Mining in Python"
   ]
  },
  {
   "cell_type": "markdown",
   "metadata": {},
   "source": [
    "# IMPORT LIBRARIES"
   ]
  },
  {
   "cell_type": "code",
   "execution_count": null,
   "metadata": {},
   "outputs": [],
   "source": [
    "import pandas as pd                               # For dataframes\n",
    "import matplotlib.pyplot as plt                   # For plotting data\n",
    "import seaborn as sns                             # For plotting data\n",
    "from sklearn.cluster import KMeans                # For k-Means\n",
    "from sklearn.model_selection import GridSearchCV  # For grid search\n",
    "from sklearn.metrics import silhouette_score      # For metrics and scores\n",
    "from sklearn.preprocessing import StandardScaler  # For standardizing data"
   ]
  },
  {
   "cell_type": "markdown",
   "metadata": {},
   "source": [
    "# LOAD AND PREPARE DATA\n",
    "Read the `penguins.csv` file from the `data` directory in variable `df`. Keep all features in variable `df` and store the class variable in `y`. Also, standardize the data so each variable has a mean of zero and unit variance (i.e., variance and standard deviation of one)."
   ]
  },
  {
   "cell_type": "code",
   "execution_count": null,
   "metadata": {},
   "outputs": [],
   "source": [
    "# Reads the .csv file into variable df\n",
    "df = pd.read_csv('data/penguins.csv')\n",
    "\n",
    "# Separates the class variable in y\n",
    "y = df.y\n",
    "\n",
    "# Removes the y column from df\n",
    "df = df.drop('y', axis=1)\n",
    "\n",
    "# Standardizes df\n",
    "df = pd.DataFrame(\n",
    "    StandardScaler().fit_transform(df),\n",
    "    columns=df.columns)\n",
    "\n",
    "# Displays the first 5 rows of df\n",
    "df.head()"
   ]
  },
  {
   "cell_type": "markdown",
   "metadata": {},
   "source": [
    "# RUNNING k-MEANS\n",
    "\n",
    "## k-Means: Train the Model\n",
    "We'll set up a `KMeans` object with the following parameters:\n",
    "\n",
    "- `n_clusters`: Total number of clusters to make.\n",
    "- `random_state`: Set to one to reproduce these results.\n",
    "- `init`: How to initialize the k-means centers; we'll use `k-means++`.\n",
    "- `n_init`: Number of times k-means would be run; the model returned would have the minimum value of `inertia`.\n",
    "\n",
    "A few attributes of the `KMeans` object, which are also used in this demo are:\n",
    "- `cluster_centers_`: Stores the discovered cluster centers.\n",
    "- `labels_`: Label of each instance.\n",
    "- `inertia`: Sum of square of distances of each instance from its corresponding center.\n",
    "- `n_iter`: Number of iterations run to find the centers."
   ]
  },
  {
   "cell_type": "code",
   "execution_count": null,
   "metadata": {},
   "outputs": [],
   "source": [
    "# Sets up the kMeans object\n",
    "km = KMeans(\n",
    "    n_clusters=3,\n",
    "    random_state=1,\n",
    "    init='k-means++',\n",
    "    n_init=10)\n",
    "\n",
    "# Fits the model to the data\n",
    "km.fit(df)\n",
    "\n",
    "# Displays the parameters of the fitted model\n",
    "km.get_params()"
   ]
  },
  {
   "cell_type": "markdown",
   "metadata": {},
   "source": [
    "# k-Means: Visualize the Clusters\n",
    "The code below creates a scatterplot of the first two features. Each point is colored according to its actual label. For comparison, each instance is drawn with a marker according to the label found by the clustering algorithm."
   ]
  },
  {
   "cell_type": "code",
   "execution_count": null,
   "metadata": {},
   "outputs": [],
   "source": [
    "# Creates a scatter plot\n",
    "sns.scatterplot(\n",
    "    x='bill_length_mm', \n",
    "    y='bill_depth_mm',\n",
    "    data=df, \n",
    "    hue=y,\n",
    "    style=km.labels_,\n",
    "    palette=[\"orange\", \"green\", \"blue\"])\n",
    "\n",
    "# Adds cluster centers to the same plot\n",
    "plt.scatter(\n",
    "    km.cluster_centers_[:,0],\n",
    "    km.cluster_centers_[:,1],\n",
    "    marker='x',\n",
    "    s=200,\n",
    "    c='red')"
   ]
  },
  {
   "cell_type": "markdown",
   "metadata": {},
   "source": [
    "# k-MEANS: OPTIMIZE VIA SILHOUETTE SCORES\n",
    "The main challenge in k-means is to find the optimal number of clusters. We can set up a `GridSearchCV` object to search for the optimal parameters. For k-Mmeans, we require a custom scorer that computes the silhouette value for different number of clusters specified by `n_clusters`. The custom scorer is called `s2()` in the code below, where it uses `silhouette_score()` from the `sklearn.metrics` library to compute a score for an instance `X`. \n",
    "\n",
    "A silhouette score is a value in [-1,+1]. It is a means for comparing how similar an instance is to its corresponding cluster compared to its similarity with other clusters. Formally, it takes into account `cohesion` and `separation` to compute a silhouette value. A +1 or close to this score value indicates better clusters."
   ]
  },
  {
   "cell_type": "code",
   "execution_count": null,
   "metadata": {},
   "outputs": [],
   "source": [
    "# Sets up the custom scorer\n",
    "def s2(estimator,X):\n",
    "    return silhouette_score(X, estimator.predict(X))\n",
    "\n",
    "# List of values for the parameter `n_clusters`\n",
    "param = range(2,10)\n",
    "\n",
    "# KMeans object\n",
    "km = KMeans(random_state=0, init='k-means++')\n",
    "\n",
    "# Sets up GridSearchCV object and stores in grid variable\n",
    "grid = GridSearchCV(\n",
    "    km,\n",
    "    {'n_clusters': param},\n",
    "    scoring=s2,\n",
    "    cv=2)\n",
    "\n",
    "# Fits the grid object to data\n",
    "grid.fit(df)\n",
    "\n",
    "# Accesses the optimum model\n",
    "best_km = grid.best_estimator_\n",
    "\n",
    "# Displays the optimum model\n",
    "best_km.get_params()"
   ]
  },
  {
   "cell_type": "markdown",
   "metadata": {},
   "source": [
    "## Plot of Scores for Different Number of Clusters\n",
    "The `grid` object has an attribute `cv_results_` through which the scores for different `n_clusters` can be accessed."
   ]
  },
  {
   "cell_type": "code",
   "execution_count": null,
   "metadata": {},
   "outputs": [],
   "source": [
    "# Plot mean_test_scores vs. n_clusters\n",
    "plt.plot(\n",
    "    param,\n",
    "    grid.cv_results_['mean_test_score'])\n",
    "\n",
    "# Draw a vertical line, where the best model is\n",
    "plt.axvline(\n",
    "    x=best_km.n_clusters, \n",
    "    color='red',\n",
    "    ls='--')\n",
    "\n",
    "# Adds labels to the plot\n",
    "plt.xlabel('Total Centers')\n",
    "plt.ylabel('Silhouette Score')"
   ]
  },
  {
   "cell_type": "markdown",
   "metadata": {},
   "source": [
    "## Visualize the Best Model\n",
    "Code below creates a visualization of the clusters stored in the optimum model `best_km`."
   ]
  },
  {
   "cell_type": "code",
   "execution_count": null,
   "metadata": {},
   "outputs": [],
   "source": [
    "# Creates a scatter plot\n",
    "sns.scatterplot(\n",
    "    x='bill_length_mm', \n",
    "    y='bill_depth_mm',\n",
    "    data=df, \n",
    "    hue=y,\n",
    "    style=best_km.labels_,\n",
    "    palette=['orange', 'green', 'blue'])\n",
    "\n",
    "# Adds cluster centers to the same plot\n",
    "plt.scatter(\n",
    "    best_km.cluster_centers_[:, 0],\n",
    "    best_km.cluster_centers_[:, 1],\n",
    "    marker='x',\n",
    "    s=200,\n",
    "    c='red')"
   ]
  },
  {
   "cell_type": "markdown",
   "metadata": {},
   "source": [
    "# CLEAN UP\n",
    "\n",
    "- If desired, clear the results with Cell > All Output > Clear. \n",
    "- Save your work by clicking the Save and Checkpoint icon (below File).\n",
    "- Shut down the Python kernel and close the file by selecting File > Close and Halt."
   ]
  }
 ],
 "metadata": {
  "kernelspec": {
   "display_name": "Python 3",
   "language": "python",
   "name": "python3"
  },
  "language_info": {
   "codemirror_mode": {
    "name": "ipython",
    "version": 3
   },
   "file_extension": ".py",
   "mimetype": "text/x-python",
   "name": "python",
   "nbconvert_exporter": "python",
   "pygments_lexer": "ipython3",
   "version": "3.7.9"
  }
 },
 "nbformat": 4,
 "nbformat_minor": 4
}
