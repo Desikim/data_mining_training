{
 "cells": [
  {
   "cell_type": "markdown",
   "metadata": {},
   "source": [
    "# THE PENGUINS DATASET\n",
    "\n",
    "**File:** Penguins.ipynb\n",
    "\n",
    "**Course:** Data Science Foundations: Data Mining in Python"
   ]
  },
  {
   "cell_type": "markdown",
   "metadata": {},
   "source": [
    "# INSTALL AND IMPORT LIBRARIES\n",
    "This demonstration requires the `palmerpenguins` library, which can be installed with Python's `pip` command. This command only needs to be done once per machine.\n",
    "\n",
    "The standard, shorter approach may work:"
   ]
  },
  {
   "cell_type": "code",
   "execution_count": null,
   "metadata": {},
   "outputs": [],
   "source": [
    "# pip install palmerpenguins"
   ]
  },
  {
   "cell_type": "markdown",
   "metadata": {},
   "source": [
    "If the above command didn't work, it may be necessary to be more explicit, in which case you could run the code below."
   ]
  },
  {
   "cell_type": "code",
   "execution_count": null,
   "metadata": {},
   "outputs": [],
   "source": [
    "# import sys\n",
    "# !{sys.executable} -m pip install palmerpenguins"
   ]
  },
  {
   "cell_type": "markdown",
   "metadata": {},
   "source": [
    "Once `palmerpenguins` is installed, then load the libraries below."
   ]
  },
  {
   "cell_type": "code",
   "execution_count": null,
   "metadata": {},
   "outputs": [],
   "source": [
    "from palmerpenguins import load_penguins  # For penguins dataset\n",
    "import pandas as pd                       # For dataframes\n",
    "import matplotlib.pyplot as plt           # For plotting functions\n",
    "import seaborn as sns                     # For additional plotting functions"
   ]
  },
  {
   "cell_type": "markdown",
   "metadata": {},
   "source": [
    "# LOAD AND PREPARE DATA\n",
    "For all three demonstrations of clustering, we'll use the `penguins` dataset, which is available in the `palmerpenguins` package. It is also described at [https://pypi.org/project/palmerpenguins/](https://pypi.org/project/palmerpenguins/).\n",
    "\n",
    "Following steps are used to prepare the data:\n",
    "\n",
    "1. Load the `penguins` dataset in variable `df`\n",
    "1. Remove the `island`, `year`, and `sex` variables\n",
    "1. Rename the class variable `species` as `y`\n",
    "1. Drop all rows with `NaN`\n",
    "1. Display the first 5 rows of `df`"
   ]
  },
  {
   "cell_type": "code",
   "execution_count": null,
   "metadata": {},
   "outputs": [],
   "source": [
    "# Loads the penguins dataset\n",
    "df = load_penguins()\n",
    "\n",
    "# Drop variables and NaN cases, rename variable\n",
    "df = df.drop(['island', 'year', 'sex'], axis=1) \\\n",
    "    .dropna() \\\n",
    "    .rename(columns={'species': 'y'})\n",
    "\n",
    "# Displays the first 5 rows of data\n",
    "df.head()"
   ]
  },
  {
   "cell_type": "markdown",
   "metadata": {},
   "source": [
    "# EXPLORE THE DATA\n",
    "Visualize various aspects of penguins dataset.\n",
    "\n",
    "## Bar Plot of Class Variable\n",
    "Use Seaborn's `countplot` function to create a bar plot and look at the distribution of different species"
   ]
  },
  {
   "cell_type": "code",
   "execution_count": null,
   "metadata": {},
   "outputs": [],
   "source": [
    "sns.countplot(x='y', data=df)"
   ]
  },
  {
   "cell_type": "markdown",
   "metadata": {},
   "source": [
    "## Scatter Plots and Density Plots for Feature Pairs\n",
    "Plot the relationships between all features using `PairGrid`. In particular, notice how `bill_length_mm` and `bill_depth_mm` variables are good at distinguishing between the species."
   ]
  },
  {
   "cell_type": "code",
   "execution_count": null,
   "metadata": {},
   "outputs": [],
   "source": [
    "# Creates a grid using Seaborn's PairGrid()\n",
    "g = sns.PairGrid(\n",
    "    df, \n",
    "    vars=['bill_length_mm', 'bill_depth_mm', 'flipper_length_mm', 'body_mass_g'], \n",
    "    hue='y', \n",
    "    diag_sharey=False, \n",
    "    palette=[\"red\", \"green\", \"blue\"])\n",
    "\n",
    "# Adds histograms on the diagonal\n",
    "g.map_diag(plt.hist)\n",
    "\n",
    "# Adds density plots above the diagonal\n",
    "g.map_upper(sns.kdeplot)\n",
    "\n",
    "# Adds scatterplots below the diagonal\n",
    "g.map_lower(sns.scatterplot)\n",
    "\n",
    "# Adds a legend\n",
    "g.add_legend()"
   ]
  },
  {
   "cell_type": "markdown",
   "metadata": {},
   "source": [
    "# SAVE DATA\n",
    "Save the data as a CSV file."
   ]
  },
  {
   "cell_type": "code",
   "execution_count": null,
   "metadata": {},
   "outputs": [],
   "source": [
    "df.to_csv('data/penguins.csv', sep=',', index=False)"
   ]
  },
  {
   "cell_type": "markdown",
   "metadata": {},
   "source": [
    "# CLEAN UP\n",
    "\n",
    "- If desired, clear the results with Cell > All Output > Clear. \n",
    "- Save your work by selecting File > Save and Checkpoint.\n",
    "- Shut down the Python kernel and close the file by selecting File > Close and Halt."
   ]
  }
 ],
 "metadata": {
  "kernelspec": {
   "display_name": "Python 3",
   "language": "python",
   "name": "python3"
  },
  "language_info": {
   "codemirror_mode": {
    "name": "ipython",
    "version": 3
   },
   "file_extension": ".py",
   "mimetype": "text/x-python",
   "name": "python",
   "nbconvert_exporter": "python",
   "pygments_lexer": "ipython3",
   "version": "3.7.9"
  }
 },
 "nbformat": 4,
 "nbformat_minor": 4
}
