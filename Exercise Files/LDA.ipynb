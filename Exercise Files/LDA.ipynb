{
 "cells": [
  {
   "cell_type": "markdown",
   "metadata": {},
   "source": [
    "# LDA: LINEAR DISCRIMINANT ANALYSIS\n",
    "\n",
    "**File:** LDA.ipynb\n",
    "\n",
    "**Course:** Data Science Foundations: Data Mining in Python\n"
   ]
  },
  {
   "cell_type": "markdown",
   "metadata": {},
   "source": [
    "# IMPORT LIBRARIES"
   ]
  },
  {
   "cell_type": "code",
   "execution_count": null,
   "metadata": {},
   "outputs": [],
   "source": [
    "import pandas as pd              # For dataframes\n",
    "import matplotlib.pyplot as plt  # For plotting data\n",
    "import seaborn as sns            # For plotting data\n",
    "from sklearn.discriminant_analysis import LinearDiscriminantAnalysis  # For LDA"
   ]
  },
  {
   "cell_type": "markdown",
   "metadata": {},
   "source": [
    "# LOAD AND PREPARE DATA\n",
    "\n",
    "Load the training data `trn` and testing data `tst` from the CSV files in the data directory.\n",
    "Separate the data matrix from the class variable."
   ]
  },
  {
   "cell_type": "code",
   "execution_count": null,
   "metadata": {},
   "outputs": [],
   "source": [
    "# Imports the training data\n",
    "trn = pd.read_csv('data/optdigits_trn.csv')\n",
    "\n",
    "# Separates the attributes P0-P63 into X_trn\n",
    "X_trn = trn.filter(regex='\\d')\n",
    "\n",
    "# Separates the class variable into y_trn\n",
    "y_trn = trn.y\n",
    "\n",
    "# Imports the testing data\n",
    "tst = pd.read_csv('data/optdigits_tst.csv')\n",
    "\n",
    "# Separates the attributes P0-P63 into X_tst\n",
    "X_tst = tst.filter(regex='\\d')\n",
    "\n",
    "# Separates the class variable into y_tst\n",
    "y_tst = tst.y"
   ]
  },
  {
   "cell_type": "code",
   "execution_count": null,
   "metadata": {},
   "outputs": [],
   "source": [
    "# Shows the first few rows of the training data\n",
    "trn.head()"
   ]
  },
  {
   "cell_type": "markdown",
   "metadata": {},
   "source": [
    "# LINEAR DISCRIMINANT ANALYSIS: TRAIN MODEL\n",
    "\n",
    "In the training phase, we'll do the following:\n",
    "\n",
    "1. Set up an LDA object as lda using `LinearDiscriminantAnalysis()`.\n",
    "1. Fit the model to the training data `trn`.\n",
    "1. Transform the data using `lda`.\n",
    "1. Plot the transformed data.\n",
    "1. Find the mean accuracy on the training data."
   ]
  },
  {
   "cell_type": "code",
   "execution_count": null,
   "metadata": {},
   "outputs": [],
   "source": [
    "# Sets up the LinearDiscriminantAnalysis object\n",
    "lda = LinearDiscriminantAnalysis()\n",
    "\n",
    "# Fits the training data\n",
    "lda.fit(X_trn, y_trn)"
   ]
  },
  {
   "cell_type": "code",
   "execution_count": null,
   "metadata": {},
   "outputs": [],
   "source": [
    "# Transforms training data\n",
    "trn_tf = lda.transform(X_trn)\n",
    "\n",
    "# Plots the projected data set on the first two discriminant functions and colors by class\n",
    "sns.scatterplot(\n",
    "    x=trn_tf[:, 0], \n",
    "    y=trn_tf[:, 1],\n",
    "    style=y_trn,\n",
    "    hue=y_trn,\n",
    "    palette=['red', 'green', 'blue'])"
   ]
  },
  {
   "cell_type": "markdown",
   "metadata": {},
   "source": [
    "Get the accuracy of the model on the training data using `score()` and display as percentage with two decimal places."
   ]
  },
  {
   "cell_type": "code",
   "execution_count": null,
   "metadata": {},
   "outputs": [],
   "source": [
    "print('Accuracy on training data = ' \n",
    "    + str(\"{:.2%}\".format(lda.score(X_trn, y_trn))))"
   ]
  },
  {
   "cell_type": "markdown",
   "metadata": {},
   "source": [
    "# TEST MODEL\n",
    "\n",
    "In this phase, we'll take the LDA model developed above and do the following:\n",
    "\n",
    "1. Transform the test set using the trained model.\n",
    "1. Plots the transformed data.\n",
    "2. Find the prediction accuracy on the testing data.\n"
   ]
  },
  {
   "cell_type": "code",
   "execution_count": null,
   "metadata": {},
   "outputs": [],
   "source": [
    "# Uses the trained model to transform the test data\n",
    "tst_tf = lda.transform(X_tst)\n",
    "\n",
    "# Plots the projected data set on the first two discriminant functions and colors by class\n",
    "sns.scatterplot(\n",
    "    x=tst_tf[:, 0], \n",
    "    y=tst_tf[:, 1],\n",
    "    style=y_tst,\n",
    "    hue=y_tst,\n",
    "    palette=['red', 'green', 'blue'])"
   ]
  },
  {
   "cell_type": "markdown",
   "metadata": {},
   "source": [
    "Get the accuracy of the model on the testing data using `score()` and display as percentage with two decimal places."
   ]
  },
  {
   "cell_type": "code",
   "execution_count": null,
   "metadata": {},
   "outputs": [],
   "source": [
    "print('Accuracy on testing data = ' \n",
    "    + str(\"{:.2%}\".format(lda.score(X_tst, y_tst))))"
   ]
  },
  {
   "cell_type": "markdown",
   "metadata": {},
   "source": [
    "# CLEAN UP\n",
    "\n",
    "- If desired, clear the results with Cell > All Output > Clear. \n",
    "- Save your work by selecting File > Save and Checkpoint.\n",
    "- Shut down the Python kernel and close the file by selecting File > Close and Halt."
   ]
  }
 ],
 "metadata": {
  "kernelspec": {
   "display_name": "Python 3",
   "language": "python",
   "name": "python3"
  },
  "language_info": {
   "codemirror_mode": {
    "name": "ipython",
    "version": 3
   },
   "file_extension": ".py",
   "mimetype": "text/x-python",
   "name": "python",
   "nbconvert_exporter": "python",
   "pygments_lexer": "ipython3",
   "version": "3.7.9"
  }
 },
 "nbformat": 4,
 "nbformat_minor": 4
}
