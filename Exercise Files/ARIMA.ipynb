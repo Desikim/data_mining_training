{
 "cells": [
  {
   "cell_type": "markdown",
   "metadata": {},
   "source": [
    "# ARIMA: Autoregressive Integrated Moving Average\n",
    "\n",
    "**File:** ARIMA.ipynb\n",
    "\n",
    "**Course:** Data Science Foundations: Data Mining in Python"
   ]
  },
  {
   "cell_type": "markdown",
   "metadata": {},
   "source": [
    "# INSTALL AND IMPORT LIBRARIES\n",
    "This demonstration requires the `pdarima` library, which can be installed with Python's `pip` command. This command only needs to be done once per machine.\n",
    "\n",
    "The standard, shorter approach may work:"
   ]
  },
  {
   "cell_type": "code",
   "execution_count": null,
   "metadata": {},
   "outputs": [],
   "source": [
    "# pip install pmdarima"
   ]
  },
  {
   "cell_type": "markdown",
   "metadata": {},
   "source": [
    "If the above command didn't work, it may be necessary to be more explicit, in which case you could run the code below."
   ]
  },
  {
   "cell_type": "code",
   "execution_count": null,
   "metadata": {},
   "outputs": [],
   "source": [
    "# import sys\n",
    "# !{sys.executable} -m pip install pmdarima"
   ]
  },
  {
   "cell_type": "markdown",
   "metadata": {},
   "source": [
    "Once `pdarima` is installed, then load the libraries below."
   ]
  },
  {
   "cell_type": "code",
   "execution_count": null,
   "metadata": {},
   "outputs": [],
   "source": [
    "import pandas as pd\n",
    "import numpy as np\n",
    "from scipy import stats\n",
    "from matplotlib import pyplot as plt\n",
    "from matplotlib.dates import DateFormatter\n",
    "import statsmodels.api as sm\n",
    "from statsmodels.graphics.tsaplots import plot_acf\n",
    "from statsmodels.stats.diagnostic import acorr_ljungbox\n",
    "from pmdarima.arima import auto_arima"
   ]
  },
  {
   "cell_type": "markdown",
   "metadata": {},
   "source": [
    "# LOAD AND PREPARE DATA"
   ]
  },
  {
   "cell_type": "code",
   "execution_count": null,
   "metadata": {},
   "outputs": [],
   "source": [
    "df = pd.read_csv('data/AirPassengers.csv', parse_dates=['Month'], index_col=['Month'])"
   ]
  },
  {
   "cell_type": "markdown",
   "metadata": {},
   "source": [
    "# PLOT DATA"
   ]
  },
  {
   "cell_type": "code",
   "execution_count": null,
   "metadata": {},
   "outputs": [],
   "source": [
    "fig, ax = plt.subplots()\n",
    "plt.xlabel('Year: 1949-1960')\n",
    "plt.ylabel('Monthly Passengers (1000s)')\n",
    "plt.title('Monthly Intl Air Passengers')\n",
    "plt.plot(df, color='black')\n",
    "ax.xaxis.set_major_formatter(DateFormatter('%Y'))"
   ]
  },
  {
   "cell_type": "markdown",
   "metadata": {},
   "source": [
    "# SPLIT DATA"
   ]
  },
  {
   "cell_type": "markdown",
   "metadata": {},
   "source": [
    "- Our goal is to predict future values in the time series.\n",
    "- To do this, we'll use data from 1949 through 1957 for training the model.\n",
    "- We'll then use data from 1958 through 1960 for testing the predictions."
   ]
  },
  {
   "cell_type": "markdown",
   "metadata": {},
   "source": [
    "## Create Training Dataset\n",
    "\n",
    "- Select data from before 1958."
   ]
  },
  {
   "cell_type": "code",
   "execution_count": null,
   "metadata": {},
   "outputs": [],
   "source": [
    "trn = df.loc[df.index < '1958-01-01']"
   ]
  },
  {
   "cell_type": "markdown",
   "metadata": {},
   "source": [
    "- Plot the training data."
   ]
  },
  {
   "cell_type": "code",
   "execution_count": null,
   "metadata": {},
   "outputs": [],
   "source": [
    "fig, ax = plt.subplots()\n",
    "plt.xlabel('Year: 1949-1957')\n",
    "plt.ylabel('Monthly Passengers (1000s)')\n",
    "plt.title('Monthly Intl Air Passengers')\n",
    "plt.plot(trn, color='black')\n",
    "ax.xaxis.set_major_formatter(DateFormatter('%Y'))"
   ]
  },
  {
   "cell_type": "markdown",
   "metadata": {},
   "source": [
    "## Create Testing Dataset\n",
    "\n",
    "- Use data from 1958 through 1960 (the last three years) for testing."
   ]
  },
  {
   "cell_type": "code",
   "execution_count": null,
   "metadata": {},
   "outputs": [],
   "source": [
    "tst = df.loc[df.index >= '1958-01-01']"
   ]
  },
  {
   "cell_type": "markdown",
   "metadata": {},
   "source": [
    "- Plot the testing data.\n",
    "- Note that the vertical scale changes from the previous graph."
   ]
  },
  {
   "cell_type": "code",
   "execution_count": null,
   "metadata": {},
   "outputs": [],
   "source": [
    "fig, ax = plt.subplots()\n",
    "plt.xlabel('Year: 1958-1960')\n",
    "plt.ylabel('Monthly Passengers (1000s)')\n",
    "plt.title('Monthly Intl Air Passengers')\n",
    "plt.plot(tst, color='black')\n",
    "ax.xaxis.set_major_formatter(DateFormatter('%Y'))"
   ]
  },
  {
   "cell_type": "markdown",
   "metadata": {},
   "source": [
    "# PREPARE MODEL\n",
    "\n",
    "## Test Stationarity"
   ]
  },
  {
   "cell_type": "markdown",
   "metadata": {},
   "source": [
    "ARIMA requires non-stationary data. That is, ARIMA needs data where the mean, the variance, and/or the covariance vary over time. Non-stationary data shows significant correlations when lagged. A \"correlogram\" graph (or ACF plot) shows the degree of correlation at different values of lag. Ideally, none of the lag values will fall in the range of nonsignificant correlations."
   ]
  },
  {
   "cell_type": "code",
   "execution_count": null,
   "metadata": {},
   "outputs": [],
   "source": [
    "trn_acf = plot_acf(trn, lags=24)"
   ]
  },
  {
   "cell_type": "markdown",
   "metadata": {},
   "source": [
    "## Linear Model"
   ]
  },
  {
   "cell_type": "markdown",
   "metadata": {},
   "source": [
    "- Fit a linear regression model to serve as a baseline. \n",
    "- The dependent (or endogenous) variable is the number of passengers. \n",
    "- The independent (or exogenous) variable is a linear time trend, including a constant (or intercept)."
   ]
  },
  {
   "cell_type": "code",
   "execution_count": null,
   "metadata": {},
   "outputs": [],
   "source": [
    "lr = sm.OLS(endog=trn['#Passengers'], exog=sm.add_constant(np.arange(1, 1 + trn.shape[0]))).fit() \n",
    "print(lr.summary())"
   ]
  },
  {
   "cell_type": "markdown",
   "metadata": {},
   "source": [
    "- Extract the fitted values."
   ]
  },
  {
   "cell_type": "code",
   "execution_count": null,
   "metadata": {},
   "outputs": [],
   "source": [
    "y_hat = lr.fittedvalues"
   ]
  },
  {
   "cell_type": "markdown",
   "metadata": {},
   "source": [
    "- Extract the 95% prediction interval."
   ]
  },
  {
   "cell_type": "code",
   "execution_count": null,
   "metadata": {},
   "outputs": [],
   "source": [
    "y_ci = lr.get_prediction().conf_int(alpha=0.05)"
   ]
  },
  {
   "cell_type": "markdown",
   "metadata": {},
   "source": [
    "- Graph time series with linear regression line and corresponding 95% prediction interval."
   ]
  },
  {
   "cell_type": "code",
   "execution_count": null,
   "metadata": {},
   "outputs": [],
   "source": [
    "fig, ax = plt.subplots()\n",
    "plt.xlabel('Year: 1949-1957')\n",
    "plt.ylabel('Monthly Passengers (1000s)')\n",
    "plt.title('Monthly Intl Air Passengers')\n",
    "plt.plot(trn, color='black', label='Training Data')\n",
    "plt.plot(y_hat, color='blue', label='Linear Regression Line')\n",
    "plt.fill_between(y_hat.index, y_ci[:, 0], y_ci[:, 1], color='lightblue', alpha=0.5, label='95% Conf. Int.')\n",
    "plt.legend(bbox_to_anchor=(1.05, 1))\n",
    "ax.xaxis.set_major_formatter(DateFormatter('%Y'))"
   ]
  },
  {
   "cell_type": "markdown",
   "metadata": {},
   "source": [
    "# ARIMA: TRAIN MODEL"
   ]
  },
  {
   "cell_type": "markdown",
   "metadata": {},
   "source": [
    "Find the best ARIMA order using the `auto_arima` function in the `pmdarima` package. Note that the `auto_arima` function assumes that the time series is non-seasonal by default (i.e. the seasonal period \"m\" is set equal to 1 by default). In what follows we set \"m\" equal to 12 to ensure that the selected optimal model takes into account the annual seasonality observed in the time series (one cycle every 12 months).    \n",
    "\n",
    "Note: We are actually conducting a variation on ARIMA called \"SARIMAX,\" or \"Seasonal Auto-Regressive Integrated Moving Average with Exogenous Factors.\""
   ]
  },
  {
   "cell_type": "code",
   "execution_count": null,
   "metadata": {},
   "outputs": [],
   "source": [
    "auto_arima_model = auto_arima(trn, m=12, with_intercept=False, suppress_warnings=True)\n",
    "print(auto_arima_model.summary())"
   ]
  },
  {
   "cell_type": "markdown",
   "metadata": {},
   "source": [
    "- The `auto_arima` function suggests `ARIMA(1,1,0)(0,1,0,12)`.    "
   ]
  },
  {
   "cell_type": "markdown",
   "metadata": {},
   "source": [
    "First set of numbers is for the basic, non-seasonal model    \n",
    "&nbsp;  1 &nbsp;&nbsp;&nbsp;    # p: Auto-regressive (AR) order   \n",
    "&nbsp;  1 &nbsp;&nbsp;&nbsp;    # d: Integrate (I), or degree of differencing   \n",
    "&nbsp;  0 &nbsp;&nbsp;&nbsp;    # q: Moving average (MA) order   "
   ]
  },
  {
   "cell_type": "code",
   "execution_count": null,
   "metadata": {},
   "outputs": [],
   "source": [
    "auto_arima_model.order"
   ]
  },
  {
   "cell_type": "markdown",
   "metadata": {},
   "source": [
    "Second set of numbers is for seasonality    \n",
    "&nbsp;  0 &nbsp;&nbsp;&nbsp;    # P: Auto-regressive (AR) order    \n",
    "&nbsp;  1 &nbsp;&nbsp;&nbsp;    # D: Integrate (I), or degree of differencing    \n",
    "&nbsp;  0 &nbsp;&nbsp;&nbsp;    # Q: Moving average (MA) order   \n",
    "&nbsp;  12 &nbsp;  # M: Model period or seasonality   "
   ]
  },
  {
   "cell_type": "code",
   "execution_count": null,
   "metadata": {},
   "outputs": [],
   "source": [
    "auto_arima_model.seasonal_order"
   ]
  },
  {
   "cell_type": "markdown",
   "metadata": {},
   "source": [
    "- Extract the residuals. "
   ]
  },
  {
   "cell_type": "code",
   "execution_count": null,
   "metadata": {},
   "outputs": [],
   "source": [
    "resid = auto_arima_model.resid()"
   ]
  },
  {
   "cell_type": "markdown",
   "metadata": {},
   "source": [
    "- Plot the standardized residuals."
   ]
  },
  {
   "cell_type": "code",
   "execution_count": null,
   "metadata": {},
   "outputs": [],
   "source": [
    "fig, ax = plt.subplots()\n",
    "plt.plot(trn.index, stats.zscore(resid), color='gray')\n",
    "plt.title('Standardized Residuals')\n",
    "plt.xlabel('Year: 1949-1957')\n",
    "ax.xaxis.set_major_formatter(DateFormatter('%Y'))"
   ]
  },
  {
   "cell_type": "markdown",
   "metadata": {},
   "source": [
    "- Plot the ACF (autocorrelation function) of the residuals. "
   ]
  },
  {
   "cell_type": "code",
   "execution_count": null,
   "metadata": {},
   "outputs": [],
   "source": [
    "res_acf = plot_acf(resid, lags=24)"
   ]
  },
  {
   "cell_type": "markdown",
   "metadata": {},
   "source": [
    "- Plot the p-values of the Ljung-Box test for autocorrelation."
   ]
  },
  {
   "cell_type": "code",
   "execution_count": null,
   "metadata": {},
   "outputs": [],
   "source": [
    "res_lb = acorr_ljungbox(resid, lags=24, return_df=False)[1]"
   ]
  },
  {
   "cell_type": "code",
   "execution_count": null,
   "metadata": {},
   "outputs": [],
   "source": [
    "fig, ax = plt.subplots()\n",
    "plt.title('p-values for Ljung-Box statistic')\n",
    "plt.scatter(np.arange(1, 1 + len(res_lb)), res_lb, color='gray', label='p-value')\n",
    "plt.plot(np.arange(1, 1 + len(res_lb)), [0.05] * len(res_lb), '--', color='blue', label='0.05')\n",
    "plt.ylim(-0.1, 1.1)\n",
    "plt.legend(bbox_to_anchor=(1.3, 1))"
   ]
  },
  {
   "cell_type": "markdown",
   "metadata": {},
   "source": [
    "# TEST MODEL"
   ]
  },
  {
   "cell_type": "markdown",
   "metadata": {},
   "source": [
    "- Fit the best model to the training data."
   ]
  },
  {
   "cell_type": "code",
   "execution_count": null,
   "metadata": {},
   "outputs": [],
   "source": [
    "auto_arima_model.fit(trn)"
   ]
  },
  {
   "cell_type": "markdown",
   "metadata": {},
   "source": [
    "- Use the model to predict intervals for last three years.\n",
    "- That is, apply the model to the testing dataset."
   ]
  },
  {
   "cell_type": "code",
   "execution_count": null,
   "metadata": {},
   "outputs": [],
   "source": [
    "arima_predictions = auto_arima_model.predict(n_periods=36, alpha=0.05, return_conf_int=True)"
   ]
  },
  {
   "cell_type": "markdown",
   "metadata": {},
   "source": [
    "- Extract the time series of model predictions."
   ]
  },
  {
   "cell_type": "code",
   "execution_count": null,
   "metadata": {},
   "outputs": [],
   "source": [
    "y_pred = pd.Series(arima_predictions[0], index=tst.index)"
   ]
  },
  {
   "cell_type": "markdown",
   "metadata": {},
   "source": [
    "- Extract the 95% prediction interval."
   ]
  },
  {
   "cell_type": "code",
   "execution_count": null,
   "metadata": {},
   "outputs": [],
   "source": [
    "y_pred_lb, y_pred_ub = arima_predictions[1][:, 0], arima_predictions[1][:, 1]"
   ]
  },
  {
   "cell_type": "markdown",
   "metadata": {},
   "source": [
    "- Graph the training data (1949-1957).\n",
    "- Add the predictions for the testing data (1958-1960).\n",
    "- Add observed values from testing data."
   ]
  },
  {
   "cell_type": "code",
   "execution_count": null,
   "metadata": {},
   "outputs": [],
   "source": [
    "fig, ax = plt.subplots()\n",
    "plt.xlabel('Year: 1949-1960')\n",
    "plt.ylabel('Monthly Passengers (1000s)')\n",
    "plt.title('Monthly Intl Air Passengers')\n",
    "plt.fill_between(tst.index, y_pred_lb, y_pred_ub, color='lightblue', alpha=0.5, label='95% Conf. Int.')\n",
    "plt.plot(trn, color='black', label='Training Data')\n",
    "plt.plot(tst, color='blue', label='Test Data')\n",
    "plt.plot(y_pred, color='red', label='Forecast')\n",
    "plt.legend(bbox_to_anchor=(1.05, 1))\n",
    "ax.xaxis.set_major_formatter(DateFormatter('%Y'))"
   ]
  },
  {
   "cell_type": "markdown",
   "metadata": {},
   "source": [
    "- Create a dataframe with the observed values for the testing dataset.\n",
    "- Add the predictions from the ARIMA model.\n",
    "- Add the low and high boundaries for the 95% confidence intervals."
   ]
  },
  {
   "cell_type": "code",
   "execution_count": null,
   "metadata": {},
   "outputs": [],
   "source": [
    "tst_pred = pd.DataFrame({\n",
    "    'Actual': tst.iloc[:, 0].values, \n",
    "    'Point Forecast': y_pred.values, \n",
    "    'Lo 95': y_pred_lb,\n",
    "    'Hi 95': y_pred_ub\n",
    "    }, index=tst.index)"
   ]
  },
  {
   "cell_type": "code",
   "execution_count": null,
   "metadata": {},
   "outputs": [],
   "source": [
    "tst_pred.head()"
   ]
  },
  {
   "cell_type": "markdown",
   "metadata": {},
   "source": [
    "# Clean Up\n",
    "\n",
    "- If desired, clear the results with Cell > All Output > Clear. \n",
    "- Save your work by selecting File > Save and Checkpoint.\n",
    "- Shut down the Python kernel and close the file by selecting File > Close and Halt."
   ]
  }
 ],
 "metadata": {
  "kernelspec": {
   "display_name": "Python 3",
   "language": "python",
   "name": "python3"
  },
  "language_info": {
   "codemirror_mode": {
    "name": "ipython",
    "version": 3
   },
   "file_extension": ".py",
   "mimetype": "text/x-python",
   "name": "python",
   "nbconvert_exporter": "python",
   "pygments_lexer": "ipython3",
   "version": "3.7.9"
  }
 },
 "nbformat": 4,
 "nbformat_minor": 4
}
