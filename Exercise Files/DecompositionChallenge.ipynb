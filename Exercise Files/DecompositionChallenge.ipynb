{
 "cells": [
  {
   "cell_type": "markdown",
   "metadata": {},
   "source": [
    "# TIME-SERIES DECOMPOSITION CHALLENGE\n",
    "\n",
    "**File:** DecompositionChallenge.ipynb\n",
    "\n",
    "**Course:** Data Science Foundations: Data Mining in Python"
   ]
  },
  {
   "cell_type": "markdown",
   "metadata": {},
   "source": [
    "# CHALLENGE\n",
    "\n",
    "In this challenge, I invite you to do the following:\n",
    "\n",
    "1. Import and prepare the dataset `EuStockMarkets.csv`.\n",
    "1. Plot the data.\n",
    "1. Conduct an additive decomposition analysis on the data.\n",
    "1. Conduct an multiplicative decomposition analysis on the data."
   ]
  },
  {
   "cell_type": "markdown",
   "metadata": {},
   "source": [
    "# IMPORT LIBRARIES"
   ]
  },
  {
   "cell_type": "code",
   "execution_count": null,
   "metadata": {},
   "outputs": [],
   "source": [
    "import pandas as pd\n",
    "import numpy as np\n",
    "from matplotlib import pyplot as plt\n",
    "from matplotlib.dates import DateFormatter\n",
    "from statsmodels.tsa.seasonal import seasonal_decompose"
   ]
  },
  {
   "cell_type": "markdown",
   "metadata": {},
   "source": [
    "# LOAD AND PREPARE DATA\n",
    "\n",
    "For this demonstration, we'll use the dataset `EuStockMarkets.csv`, which comes from the R package `EuStockMarkets` and is saved as a CSV file. This dataset gives the daily closing prices of four major European stock indices: Germany's DAX (Ibis), Switzerland's SMI, France's CAC, and the UK's FTSE from 1991 to 1998. I have made two changes to the data:\n",
    "\n",
    "1. Because decomposition is easiest with just one time series (as opposed to four), I included only France's CAC (\"Cotation Assistée en Continu\" or \"continuous assisted trading\").\n",
    "1. To make this challenge more similar to the earlier demonstration of decomposition, I have included data from just the last trading day of each month, as opposed to every trading day.\n",
    "\n",
    "## Data Source\n",
    "\n",
    "This dataset was provided by provided by Erste Bank AG, Vienna, Austria and is included in the R package `EuStockMarkets`."
   ]
  },
  {
   "cell_type": "code",
   "execution_count": null,
   "metadata": {},
   "outputs": [],
   "source": [
    "df = pd.read_csv('data/EuStockMarkets.csv', parse_dates=['Month'], index_col=['Month'])\n",
    "\n",
    "df.head()"
   ]
  },
  {
   "cell_type": "markdown",
   "metadata": {},
   "source": [
    "# CLEAN UP\n",
    "\n",
    "- If desired, clear the results with Cell > All Output > Clear. \n",
    "- Save your work by selecting File > Save and Checkpoint.\n",
    "- Shut down the Python kernel and close the file by selecting File > Close and Halt."
   ]
  }
 ],
 "metadata": {
  "kernelspec": {
   "display_name": "Python 3",
   "language": "python",
   "name": "python3"
  },
  "language_info": {
   "codemirror_mode": {
    "name": "ipython",
    "version": 3
   },
   "file_extension": ".py",
   "mimetype": "text/x-python",
   "name": "python",
   "nbconvert_exporter": "python",
   "pygments_lexer": "ipython3",
   "version": "3.7.9"
  }
 },
 "nbformat": 4,
 "nbformat_minor": 4
}
