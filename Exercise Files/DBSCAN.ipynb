{
 "cells": [
  {
   "cell_type": "markdown",
   "metadata": {},
   "source": [
    "# DENSITY BASED SPATIAL CLUSTERING OF APPLICATIONS WITH NOISE\n",
    "**File:** DBSCAN.ipynb\n",
    "\n",
    "**Course:** Data Science Foundations: Data Mining in Python"
   ]
  },
  {
   "cell_type": "markdown",
   "metadata": {},
   "source": [
    "# IMPORT LIBRARIES"
   ]
  },
  {
   "cell_type": "code",
   "execution_count": null,
   "metadata": {},
   "outputs": [],
   "source": [
    "import pandas as pd                               # For dataframes\n",
    "import matplotlib.pyplot as plt                   # For plotting data\n",
    "import seaborn as sns                             # For plotting data\n",
    "from sklearn.cluster import DBSCAN                # For DBSCAN\n",
    "import numpy as np                                # For various computations\n",
    "from sklearn.preprocessing import StandardScaler  # For standardizing data    \n",
    "from sklearn.neighbors import NearestNeighbors    # For nearest neighbors"
   ]
  },
  {
   "cell_type": "markdown",
   "metadata": {},
   "source": [
    "# LOAD AND PREPARE DATA\n",
    "Read the `penguins.csv` file from the `data` directory in variable `df`. Keep all features in variable `df` and store the class variable in `y`. Also, standardize the data so each variable has a mean of zero and unit variance (i.e., variance and standard deviation of one)."
   ]
  },
  {
   "cell_type": "code",
   "execution_count": null,
   "metadata": {},
   "outputs": [],
   "source": [
    "# Reads the .csv file into variable df\n",
    "df = pd.read_csv('data/penguins.csv')\n",
    "\n",
    "# Separates the class variable in y\n",
    "y = df.y\n",
    "\n",
    "# Removes the y column from df\n",
    "df = df.drop('y', axis=1)\n",
    "\n",
    "# Standardizes df\n",
    "df = pd.DataFrame(\n",
    "    StandardScaler().fit_transform(df),\n",
    "    columns=df.columns)\n",
    "\n",
    "# Displays the first 5 rows of df\n",
    "df.head()"
   ]
  },
  {
   "cell_type": "markdown",
   "metadata": {},
   "source": [
    "# DBSCAN: CLUSTERING DATA\n",
    "There are two steps for running DBSCAN. In the first step, we'll determine the parameter values and in the second step, we'll fit the model to data.\n",
    "\n",
    "## Step 1: Determine the Parameters\n",
    "For DBSCAN clustering, we need two parameters:\n",
    "- `min_samples`: Minimum number of neighboring points for clustering. \n",
    "- `eps`: Epsilon neighborhood radius\n",
    "\n",
    "To find the optimal value of `eps`, we'll construct a plot of distances of `min_samples` (variable `k` in code below) nearest neighbors and look for a pronounced bend, also called a \"knee.\" The code below uses the `NearestNeighbors` object to find the distances and plots them."
   ]
  },
  {
   "cell_type": "code",
   "execution_count": null,
   "metadata": {},
   "outputs": [],
   "source": [
    "k = 7\n",
    "\n",
    "# Fits a NearestNeighbors object to df\n",
    "nn = NearestNeighbors(n_neighbors=k) \\\n",
    "    .fit(df)\n",
    "\n",
    "# Finds the distance of k closest neighbors\n",
    "dist, ind = nn.kneighbors(df)\n",
    "\n",
    "# Sorts the distances\n",
    "dist = np.sort(dist, axis=0)[:,1]\n",
    "\n",
    "# Plots the distances\n",
    "plt.plot(dist)\n",
    "\n",
    "# Draws a horizontal line at the bend\n",
    "plt.axhline(y=.6, color='red', ls='--')\n"
   ]
  },
  {
   "cell_type": "markdown",
   "metadata": {},
   "source": [
    "## Step 2: Fit the Model\n",
    "Create a DBSCAN object with the parameters found and visualize the clusters. Each point is colored according to its actual label. For comparison, each instance is drawn with a marker according to the label found by the clustering algorithm."
   ]
  },
  {
   "cell_type": "code",
   "execution_count": null,
   "metadata": {},
   "outputs": [],
   "source": [
    "# Fits a DBSCAN object to df\n",
    "db=DBSCAN(eps=0.6, min_samples=k) \\\n",
    "    .fit(df)\n",
    "\n",
    "# Creates a scatter plot to visualize the clusters\n",
    "sns.scatterplot(\n",
    "    x='bill_length_mm', \n",
    "    y='bill_depth_mm',\n",
    "    data=df, \n",
    "    hue=y,\n",
    "    style=db.labels_,\n",
    "    palette=['orange', 'green', 'blue'])"
   ]
  },
  {
   "cell_type": "markdown",
   "metadata": {},
   "source": [
    "# CLEAN UP\n",
    "\n",
    "- If desired, clear the results with Cell > All Output > Clear. \n",
    "- Save your work by selecting File > Save and Checkpoint.\n",
    "- Shut down the Python kernel and close the file by selecting File > Close and Halt."
   ]
  }
 ],
 "metadata": {
  "kernelspec": {
   "display_name": "Python 3",
   "language": "python",
   "name": "python3"
  },
  "language_info": {
   "codemirror_mode": {
    "name": "ipython",
    "version": 3
   },
   "file_extension": ".py",
   "mimetype": "text/x-python",
   "name": "python",
   "nbconvert_exporter": "python",
   "pygments_lexer": "ipython3",
   "version": "3.7.9"
  }
 },
 "nbformat": 4,
 "nbformat_minor": 4
}
