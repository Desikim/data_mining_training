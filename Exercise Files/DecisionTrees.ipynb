{
 "cells": [
  {
   "cell_type": "markdown",
   "metadata": {},
   "source": [
    "# DECISION TREES\n",
    "\n",
    "**File:** DecisionTrees.ipynb\n",
    "\n",
    "**Course:** Data Science Foundations: Data Mining in Python"
   ]
  },
  {
   "cell_type": "markdown",
   "metadata": {},
   "source": [
    "# IMPORT LIBRARIES"
   ]
  },
  {
   "cell_type": "code",
   "execution_count": null,
   "metadata": {},
   "outputs": [],
   "source": [
    "import matplotlib.pyplot as plt                              # For plotting data\n",
    "import seaborn as sns                                        # For plotting data\n",
    "import pandas as pd                                          # For dataframes\n",
    "from sklearn.model_selection import GridSearchCV             # For parameter optimization\n",
    "from sklearn.tree import DecisionTreeClassifier, plot_tree   # For decision trees\n",
    "from sklearn.metrics import plot_confusion_matrix            # Evaluation measure"
   ]
  },
  {
   "cell_type": "markdown",
   "metadata": {},
   "source": [
    "# LOAD AND PREPARE DATA\n",
    "Load the training data `trn` and testing data `tst` from the CSV files in the data directory. Separate the data matrix from the class variable."
   ]
  },
  {
   "cell_type": "code",
   "execution_count": null,
   "metadata": {},
   "outputs": [],
   "source": [
    "# Imports the training data\n",
    "trn = pd.read_csv('data/spambase_trn.csv')\n",
    "\n",
    "# Separates the attributes X0-X56 into X_trn\n",
    "X_trn = trn.filter(regex='\\d')\n",
    "\n",
    "# Separates the class variable into y_trn\n",
    "y_trn = trn.y\n",
    "\n",
    "# Imports the testing data\n",
    "tst = pd.read_csv('data/spambase_tst.csv')\n",
    "\n",
    "# Separates the attributes X0-X56 into X_tst\n",
    "X_tst = tst.filter(regex='\\d')\n",
    "\n",
    "# Separates the class variable into y_tst\n",
    "y_tst = tst.y\n",
    "\n",
    "# Class labels\n",
    "spam = ['Not Spam','Spam']"
   ]
  },
  {
   "cell_type": "markdown",
   "metadata": {},
   "source": [
    "Look at the first few rows of the training data."
   ]
  },
  {
   "cell_type": "code",
   "execution_count": null,
   "metadata": {},
   "outputs": [],
   "source": [
    "trn.head()"
   ]
  },
  {
   "cell_type": "markdown",
   "metadata": {},
   "source": [
    "# DECISION TREE: TRAIN MODEL\n",
    "\n",
    "## Fit the Training Data\n",
    "A simple method to learn a decision tree is to create a `DecisionTreeClassifier` object and fit it to the training data. The object has a method `score()` that returns the accuracy of the model on the given data. The `DecisionTreeClassifier` requires two parameters:\n",
    "\n",
    "- `criterion`: Can be `entropy` or `gini`\n",
    "- `max_leaf_nodes`: Specifies the size of the tree by explicitly stating the total leaf nodes"
   ]
  },
  {
   "cell_type": "code",
   "execution_count": null,
   "metadata": {},
   "outputs": [],
   "source": [
    "# Creates a DecisionTreeClassifier object\n",
    "dt = DecisionTreeClassifier(\n",
    "    criterion='entropy',\n",
    "    random_state=0,\n",
    "    max_leaf_nodes=7) \n",
    "\n",
    "# Fits the decision tree to training data\n",
    "dt.fit(X_trn,y_trn)"
   ]
  },
  {
   "cell_type": "markdown",
   "metadata": {},
   "source": [
    "## Calculate Mean Accuracy on Training Data"
   ]
  },
  {
   "cell_type": "code",
   "execution_count": null,
   "metadata": {},
   "outputs": [],
   "source": [
    "print(\n",
    "    'Accuracy on training data: ' \n",
    "    + str(\"{:.2%}\".format(dt.score(X_trn, y_trn))))"
   ]
  },
  {
   "cell_type": "markdown",
   "metadata": {},
   "source": [
    "## Optimize the Decision Tree\n",
    "The `GridSearchCV` object can be used to find the optimal decision tree. This object can be set up by specifying a range of values for `max_leaf_nodes` and the two possible values of `criterion`. In the code below `GridSearchCV` is set up with the default 5 fold cross validation."
   ]
  },
  {
   "cell_type": "code",
   "execution_count": null,
   "metadata": {},
   "outputs": [],
   "source": [
    "# Defines a DecisionTreeClassifier object\n",
    "dt = DecisionTreeClassifier(\n",
    "    random_state=1) \n",
    "\n",
    "# Possible values for max_leaf_nodes to try\n",
    "param = range(6,45,2)\n",
    "\n",
    "# Sets up GridSearchCV object and stores it in grid variable\n",
    "grid = GridSearchCV(\n",
    "    dt,\n",
    "    {'max_leaf_nodes': param, \n",
    "     'criterion': ['entropy','gini']})\n",
    "\n",
    "# Fits the grid to the training data \n",
    "grid.fit(X_trn,y_trn)\n",
    "\n",
    "# Stores the optimum model in best_dt\n",
    "best_dt = grid.best_estimator_\n",
    "\n",
    "# Displays the optimum model\n",
    "best_dt.get_params()\n"
   ]
  },
  {
   "cell_type": "markdown",
   "metadata": {},
   "source": [
    "## Plot Accuracy Against Various Parameters\n",
    "The code below creates a plot of accuracy against various values of `max_leaf_nodes`. The `gini` and `entropy` measures are plotted separately."
   ]
  },
  {
   "cell_type": "code",
   "execution_count": null,
   "metadata": {},
   "outputs": [],
   "source": [
    "# Plots the mean accuracy against max_leaf_nodes\n",
    "sns.relplot(\n",
    "    data=pd.DataFrame.from_dict(grid.cv_results_, orient='columns'),\n",
    "    kind='line',\n",
    "    x='param_max_leaf_nodes', \n",
    "    y='mean_test_score', \n",
    "    hue='param_criterion'\n",
    ")\n",
    "\n",
    "# Draws a vertical red line, where the best model is\n",
    "plt.axvline(\n",
    "    x=best_dt.max_leaf_nodes, \n",
    "    color='red', \n",
    "    ls='--')"
   ]
  },
  {
   "cell_type": "markdown",
   "metadata": {},
   "source": [
    "## Display the Decision Tree\n",
    "Use `plot_tree()` to display the decision tree. The two class labels have two different shades to distinguish between them."
   ]
  },
  {
   "cell_type": "code",
   "execution_count": null,
   "metadata": {},
   "outputs": [],
   "source": [
    "# Sets the figure size\n",
    "fig = plt.figure(figsize=(25, 25))\n",
    "\n",
    "# Creates a visual display of the model.\n",
    "# Keep max_depth small for better visualization \n",
    "t = plot_tree(\n",
    "    best_dt,\n",
    "    class_names=spam,\n",
    "    max_depth=3,\n",
    "    filled=True)"
   ]
  },
  {
   "cell_type": "markdown",
   "metadata": {},
   "source": [
    "# TEST MODEL\n",
    "Display the confusion matrix for the test data `tst` using the optimum decision tree model, `best_dt`, found in the training phase. A good evaluation measure is the `confusion matrix` that gives the fraction of true positives, true negatives, false positives, and false negatives."
   ]
  },
  {
   "cell_type": "markdown",
   "metadata": {},
   "source": [
    "## Visualize the Confusion Matrix\n",
    "\n",
    "Normalize the scores to display as proportions across rows."
   ]
  },
  {
   "cell_type": "code",
   "execution_count": null,
   "metadata": {},
   "outputs": [],
   "source": [
    "plot_confusion_matrix(\n",
    "    best_dt, X_tst, y_tst,\n",
    "    display_labels=spam,\n",
    "    normalize='true')"
   ]
  },
  {
   "cell_type": "markdown",
   "metadata": {},
   "source": [
    "## Calculate Mean Accuracy on Testing Data"
   ]
  },
  {
   "cell_type": "code",
   "execution_count": null,
   "metadata": {},
   "outputs": [],
   "source": [
    "print(\n",
    "    'Accuracy on testing data: ' \n",
    "    + str(\"{:.2%}\".format(best_dt.score(X_tst, y_tst))))"
   ]
  },
  {
   "cell_type": "markdown",
   "metadata": {},
   "source": [
    "# CLEAN UP\n",
    "\n",
    "- If desired, clear the results with Cell > All Output > Clear. \n",
    "- Save your work by selecting File > Save and Checkpoint.\n",
    "- Shut down the Python kernel and close the file by selecting File > Close and Halt."
   ]
  }
 ],
 "metadata": {
  "kernelspec": {
   "display_name": "Python 3",
   "language": "python",
   "name": "python3"
  },
  "language_info": {
   "codemirror_mode": {
    "name": "ipython",
    "version": 3
   },
   "file_extension": ".py",
   "mimetype": "text/x-python",
   "name": "python",
   "nbconvert_exporter": "python",
   "pygments_lexer": "ipython3",
   "version": "3.7.9"
  }
 },
 "nbformat": 4,
 "nbformat_minor": 4
}
