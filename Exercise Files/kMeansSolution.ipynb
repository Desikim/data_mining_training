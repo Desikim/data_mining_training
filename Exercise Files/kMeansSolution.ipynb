{
 "cells": [
  {
   "cell_type": "markdown",
   "metadata": {},
   "source": [
    "# k-MEANS SOLUTION\n",
    "\n",
    "**File:** kMeansSolution.ipynb\n",
    "\n",
    "**Course:** Data Science Foundations: Data Mining in Python"
   ]
  },
  {
   "cell_type": "markdown",
   "metadata": {},
   "source": [
    "# CHALLENGE\n",
    "\n",
    "For this challenge, I invite you to to the following:\n",
    "\n",
    "1. Import and prepare the `iris` dataset.\n",
    "1. Conduct a k-means cluster analysis.\n",
    "1. Visualize the clusters."
   ]
  },
  {
   "cell_type": "markdown",
   "metadata": {},
   "source": [
    "# IMPORT LIBRARIES"
   ]
  },
  {
   "cell_type": "code",
   "execution_count": null,
   "metadata": {},
   "outputs": [],
   "source": [
    "import pandas as pd                               # For dataframes\n",
    "import matplotlib.pyplot as plt                   # For plotting data\n",
    "import seaborn as sns                             # For plotting data\n",
    "from sklearn.cluster import KMeans                # For k-Means\n",
    "from sklearn.model_selection import GridSearchCV  # For grid search\n",
    "from sklearn.metrics import silhouette_score      # For metrics and scores\n",
    "from sklearn.preprocessing import StandardScaler  # For standardizing data"
   ]
  },
  {
   "cell_type": "markdown",
   "metadata": {},
   "source": [
    "# LOAD DATA\n",
    "Read the `iris` from \"iris.csv\" in the data folder and save in `df`."
   ]
  },
  {
   "cell_type": "code",
   "execution_count": null,
   "metadata": {
    "scrolled": true
   },
   "outputs": [],
   "source": [
    "# Reads the .csv file into variable df\n",
    "df = pd.read_csv('data/iris.csv')\n",
    "\n",
    "# Displays the first 5 rows of df\n",
    "df.head()"
   ]
  },
  {
   "cell_type": "markdown",
   "metadata": {},
   "source": [
    "# PREPARE DATA"
   ]
  },
  {
   "cell_type": "code",
   "execution_count": null,
   "metadata": {},
   "outputs": [],
   "source": [
    "# Separates the class variable in y\n",
    "y = df.species\n",
    "\n",
    "# Removes the y column from df\n",
    "X = df.drop('species', axis=1)\n",
    "\n",
    "# Standardizes df\n",
    "X = pd.DataFrame(\n",
    "    StandardScaler().fit_transform(X),\n",
    "    columns=X.columns)\n",
    "\n",
    "# Displays the first 5 rows of X\n",
    "X.head()"
   ]
  },
  {
   "cell_type": "markdown",
   "metadata": {},
   "source": [
    "# k-MEANS\n",
    "\n",
    "## Train the Model\n",
    "We'll set up a `KMeans` object with the following parameters:\n",
    "\n",
    "- `n_clusters`: Total number of clusters to make.\n",
    "- `random_state`: Set to one to reproduce these results.\n",
    "- `init`: How to initialize the k-means centers; we'll use `k-means++`.\n",
    "- `n_init`: Number of times k-means would be run; the model returned would have the minimum value of `inertia`.\n",
    "\n",
    "A few attributes of the `KMeans` object, which are also used in this demo are:\n",
    "- `cluster_centers_`: Stores the discovered cluster centers.\n",
    "- `labels_`: Label of each instance.\n",
    "- `inertia`: Sum of square of distances of each instance from its corresponding center.\n",
    "- `n_iter`: Number of iterations run to find the centers."
   ]
  },
  {
   "cell_type": "code",
   "execution_count": null,
   "metadata": {},
   "outputs": [],
   "source": [
    "# Sets up the kMeans object\n",
    "km = KMeans(\n",
    "    n_clusters=3,\n",
    "    random_state=1,\n",
    "    init='k-means++',\n",
    "    n_init=10)\n",
    "\n",
    "# Fits the model to the data\n",
    "km.fit(X)\n",
    "\n",
    "# Displays the parameters of the fitted model\n",
    "km.get_params()"
   ]
  },
  {
   "cell_type": "markdown",
   "metadata": {},
   "source": [
    "# Visualize the Clusters\n",
    "The code below creates a scatterplot of the first two features. Each point is colored according to its actual label. For comparison, each instance is drawn with a marker according to the label found by the clustering algorithm."
   ]
  },
  {
   "cell_type": "code",
   "execution_count": null,
   "metadata": {},
   "outputs": [],
   "source": [
    "# Creates a scatter plot\n",
    "sns.scatterplot(\n",
    "    x='sepal_length', \n",
    "    y='sepal_width',\n",
    "    data=X, \n",
    "    hue=y,\n",
    "    style=km.labels_,\n",
    "    palette=[\"orange\", \"green\", \"blue\"])\n",
    "\n",
    "# Adds cluster centers to the same plot\n",
    "plt.scatter(\n",
    "    km.cluster_centers_[:,0],\n",
    "    km.cluster_centers_[:,1],\n",
    "    marker='x',\n",
    "    s=200,\n",
    "    c='red')"
   ]
  },
  {
   "cell_type": "markdown",
   "metadata": {},
   "source": [
    "# CLEAN UP\n",
    "\n",
    "- If desired, clear the results with Cell > All Output > Clear. \n",
    "- Save your work by selecting File > Save and Checkpoint.\n",
    "- Shut down the Python kernel and close the file by selecting File > Close and Halt."
   ]
  }
 ],
 "metadata": {
  "kernelspec": {
   "display_name": "Python 3",
   "language": "python",
   "name": "python3"
  },
  "language_info": {
   "codemirror_mode": {
    "name": "ipython",
    "version": 3
   },
   "file_extension": ".py",
   "mimetype": "text/x-python",
   "name": "python",
   "nbconvert_exporter": "python",
   "pygments_lexer": "ipython3",
   "version": "3.7.9"
  }
 },
 "nbformat": 4,
 "nbformat_minor": 4
}
