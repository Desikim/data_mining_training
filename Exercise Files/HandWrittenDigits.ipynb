{
 "cells": [
  {
   "cell_type": "markdown",
   "metadata": {},
   "source": [
    "# HANDWRITTEN DIGITS DATASET\n",
    "\n",
    "**File:** HandwrittenDigits.ipynb\n",
    "\n",
    "**Course:** Data Science Foundations: Data Mining in Python"
   ]
  },
  {
   "cell_type": "markdown",
   "metadata": {},
   "source": [
    "# IMPORT LIBRARIES"
   ]
  },
  {
   "cell_type": "code",
   "execution_count": null,
   "metadata": {},
   "outputs": [],
   "source": [
    "import pandas as pd                                   # For dataframes\n",
    "import numpy as np                                    # For various functions\n",
    "import matplotlib.pyplot as plt                       # For plotting functions\n",
    "import seaborn as sns                                 # For additional plotting functions\n",
    "from sklearn.model_selection import train_test_split  # For train/test splits"
   ]
  },
  {
   "cell_type": "markdown",
   "metadata": {},
   "source": [
    "# LOAD AND PREPARE DATA\n",
    "Many of the datasets for this course come from the Machine Learning Repository at the University of California, Irvine (UCI) at [https://archive.ics.uci.edu/](https://archive.ics.uci.edu/).\n",
    "\n",
    "For all three demonstrations of dimensionality reduction, we'll use the \"Optical Recognition of Handwritten Digits Data Set,\" which can be accessed via [https://j.mp/34NFNGn](https://j.mp/34NFNGn). We'll use the dataset saved in \"optdigits.tra,\" which is the training dataset. "
   ]
  },
  {
   "cell_type": "markdown",
   "metadata": {},
   "source": [
    "## Import Data"
   ]
  },
  {
   "cell_type": "markdown",
   "metadata": {},
   "source": [
    "- To read read the dataset from a local CSV file, run the following cell. (This is the recommended approach.)"
   ]
  },
  {
   "cell_type": "code",
   "execution_count": null,
   "metadata": {},
   "outputs": [],
   "source": [
    "df = pd.read_csv('data/optdigits_raw.csv')"
   ]
  },
  {
   "cell_type": "markdown",
   "metadata": {},
   "source": [
    "- Alternatively, to read the data from the UCI ML Repository, uncomment the lines in the cell below and run them."
   ]
  },
  {
   "cell_type": "code",
   "execution_count": null,
   "metadata": {},
   "outputs": [],
   "source": [
    "# df = pd.read_csv(\n",
    "#     'https://archive.ics.uci.edu/ml/machine-learning-databases/optdigits/optdigits.tra', \n",
    "#     header=None)"
   ]
  },
  {
   "cell_type": "markdown",
   "metadata": {},
   "source": [
    "- Check the data."
   ]
  },
  {
   "cell_type": "code",
   "execution_count": null,
   "metadata": {},
   "outputs": [],
   "source": [
    "df.head()"
   ]
  },
  {
   "cell_type": "markdown",
   "metadata": {},
   "source": [
    "## Rename Variables\n",
    "\n",
    "- Sequentially renames all attribute columns (i.e., pixel data) as `P0`, `P2`, etc.\n",
    "- Renames the class variable as `y`."
   ]
  },
  {
   "cell_type": "code",
   "execution_count": null,
   "metadata": {},
   "outputs": [],
   "source": [
    "df.columns = [\"P\" + str(i) for i in range(0, len(df.columns) - 1)] + [\"y\"]"
   ]
  },
  {
   "cell_type": "markdown",
   "metadata": {},
   "source": [
    "## Select Cases\n",
    "\n",
    "- Select cases for the digits {1, 2, 3}.\n",
    "- Look at the first 5 rows."
   ]
  },
  {
   "cell_type": "code",
   "execution_count": null,
   "metadata": {},
   "outputs": [],
   "source": [
    "df = df.loc[df.y.isin([1, 3, 6])]\n",
    "\n",
    "df.head()"
   ]
  },
  {
   "cell_type": "markdown",
   "metadata": {},
   "source": [
    "## Split Data\n",
    "\n",
    "- `train_test_split()` splits the data into training and testing sets.\n",
    "- Specify the data matrix `X`, which contrains the attributes of the pixel data.\n",
    "- Extract columns `P0`, `P2`, ..., `P63` with `df.filter(regex='\\d')`, which will keep only names with a numeric digits in them.\n",
    "- Specify the target variable as `df.y`.\n",
    "- Create the `trn` and `tst` dataframes."
   ]
  },
  {
   "cell_type": "code",
   "execution_count": null,
   "metadata": {},
   "outputs": [],
   "source": [
    "# Renames columns\n",
    "X_trn, X_tst, y_trn, y_tst = train_test_split(\n",
    "    df.filter(regex='\\d'),  \n",
    "    df.y, \n",
    "    test_size=0.30,\n",
    "    random_state=1)\n",
    "\n",
    "# Creates the training dataset, trn\n",
    "trn = X_trn\n",
    "trn[\"y\"] = y_trn\n",
    "\n",
    "# Creates the testing dataset, tst\n",
    "tst = X_tst\n",
    "tst[\"y\"] = y_tst"
   ]
  },
  {
   "cell_type": "markdown",
   "metadata": {},
   "source": [
    "# EXPLORE TRAINING DATA"
   ]
  },
  {
   "cell_type": "markdown",
   "metadata": {},
   "source": [
    "## Display Images\n",
    "Display the images of the first 20 digits of `X_train`."
   ]
  },
  {
   "cell_type": "code",
   "execution_count": null,
   "metadata": {},
   "outputs": [],
   "source": [
    "# Sets up a grid for the images\n",
    "fig, ax = plt.subplots(\n",
    "    nrows=1, \n",
    "    ncols=20, \n",
    "    figsize=(15, 3.5), \n",
    "    subplot_kw=dict(xticks=[], yticks=[]))\n",
    "\n",
    "# Plots 20 digits\n",
    "for i in np.arange(20):\n",
    "    ax[i].imshow(X_trn.to_numpy()[i, 0:-1].reshape(8, 8), cmap=plt.cm.gray)   \n",
    "plt.show()"
   ]
  },
  {
   "cell_type": "markdown",
   "metadata": {},
   "source": [
    "## Explore Attribute Variables\n",
    "Select four arbitrary features (any four will do) and get paired plots."
   ]
  },
  {
   "cell_type": "code",
   "execution_count": null,
   "metadata": {},
   "outputs": [],
   "source": [
    "# Creates a grid using Seaborn's PairGrid()\n",
    "g = sns.PairGrid(\n",
    "    trn, \n",
    "    vars=[\"P25\", \"P30\", \"P45\", \"P60\"], \n",
    "    hue=\"y\", \n",
    "    diag_sharey=False, \n",
    "    palette=[\"red\", \"green\", \"blue\"])\n",
    "\n",
    "# Adds histograms on the diagonal\n",
    "g.map_diag(plt.hist)\n",
    "\n",
    "# Adds density plots above the diagonal\n",
    "g.map_upper(sns.kdeplot)\n",
    "\n",
    "# Adds scatterplots below the diagonal\n",
    "g.map_lower(sns.scatterplot)\n",
    "\n",
    "# Adds a legend\n",
    "g.add_legend()"
   ]
  },
  {
   "cell_type": "markdown",
   "metadata": {},
   "source": [
    "# SAVE DATA\n",
    "Save `df`, `trn`, and `tst` to CSV files to be used later."
   ]
  },
  {
   "cell_type": "code",
   "execution_count": null,
   "metadata": {},
   "outputs": [],
   "source": [
    "df.to_csv('data/optdigits.csv', sep=',', index=False)\n",
    "trn.to_csv('data/optdigits_trn.csv', sep=',' ,index=False)\n",
    "tst.to_csv('data/optdigits_tst.csv', sep=',' ,index=False)"
   ]
  },
  {
   "cell_type": "markdown",
   "metadata": {},
   "source": [
    "# CLEAN UP\n",
    "\n",
    "- If desired, clear the results with Cell > All Output > Clear. \n",
    "- Save your work by selecting File > Save and Checkpoint.\n",
    "- Shut down the Python kernel and close the file by selecting File > Close and Halt."
   ]
  }
 ],
 "metadata": {
  "kernelspec": {
   "display_name": "Python 3",
   "language": "python",
   "name": "python3"
  },
  "language_info": {
   "codemirror_mode": {
    "name": "ipython",
    "version": 3
   },
   "file_extension": ".py",
   "mimetype": "text/x-python",
   "name": "python",
   "nbconvert_exporter": "python",
   "pygments_lexer": "ipython3",
   "version": "3.7.9"
  }
 },
 "nbformat": 4,
 "nbformat_minor": 4
}
