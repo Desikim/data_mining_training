{
 "cells": [
  {
   "cell_type": "markdown",
   "metadata": {},
   "source": [
    "# PCA SOLUTION\n",
    "\n",
    "**File:** PCASolution.ipynb\n",
    "\n",
    "**Course:** Data Science Foundations: Data Mining in Python"
   ]
  },
  {
   "cell_type": "markdown",
   "metadata": {},
   "source": [
    "# CHALLENGE\n",
    "\n",
    "In this challenge, I invite you to do the following:\n",
    "\n",
    "1. Set up the PCA object.\n",
    "1. Project the data onto the principal directions found by PCA.\n",
    "1. Plot the ratio of variances explained by each direction.\n",
    "1. Create a scatter plot of projected data along the first two principal directions."
   ]
  },
  {
   "cell_type": "markdown",
   "metadata": {},
   "source": [
    "# IMPORT LIBRARIES"
   ]
  },
  {
   "cell_type": "code",
   "execution_count": null,
   "metadata": {},
   "outputs": [],
   "source": [
    "import pandas as pd                    # For dataframes\n",
    "import matplotlib.pyplot as plt        # For plotting data\n",
    "import seaborn as sns                  # For plotting data\n",
    "from sklearn.decomposition import PCA  # For PCA"
   ]
  },
  {
   "cell_type": "markdown",
   "metadata": {},
   "source": [
    "# LOAD DATA\n",
    "\n",
    "For this challenge, we'll use the `swiss` dataset, which is saved in the data folder as \"swiss.csv.\" This dataset contains a standardized fertility measure and socio-economic indicators for each of 47 French-speaking provinces of Switzerland at about 1888. (For more information, see https://opr.princeton.edu/archive/pefp/switz.aspx.)\n",
    "\n",
    "We'll use the complete dataset for this challenge, as opposed to separating it into training and testing sets."
   ]
  },
  {
   "cell_type": "code",
   "execution_count": null,
   "metadata": {},
   "outputs": [],
   "source": [
    "# Imports the data\n",
    "df = pd.read_csv('data/swiss.csv')"
   ]
  },
  {
   "cell_type": "code",
   "execution_count": null,
   "metadata": {},
   "outputs": [],
   "source": [
    "# Shows the first few rows of the training data\n",
    "df.head()"
   ]
  },
  {
   "cell_type": "markdown",
   "metadata": {},
   "source": [
    "# PRINCIPAL COMPONENT ANALYSIS"
   ]
  },
  {
   "cell_type": "code",
   "execution_count": null,
   "metadata": {},
   "outputs": [],
   "source": [
    "# Sets up the PCA object\n",
    "pca = PCA()\n",
    "\n",
    "# Transforms the data ('tf' = 'transformed')\n",
    "df_tf = pca.fit_transform(df)\n",
    "\n",
    "# Plot the variance explained by each component\n",
    "plt.plot(pca.explained_variance_ratio_)"
   ]
  },
  {
   "cell_type": "code",
   "execution_count": null,
   "metadata": {
    "scrolled": true
   },
   "outputs": [],
   "source": [
    "# Plots the projected data set on the first two principal components and colors by class\n",
    "sns.scatterplot(\n",
    "    x=df_tf[:, 0], \n",
    "    y=df_tf[:, 1])"
   ]
  }
 ],
 "metadata": {
  "kernelspec": {
   "display_name": "Python 3",
   "language": "python",
   "name": "python3"
  },
  "language_info": {
   "codemirror_mode": {
    "name": "ipython",
    "version": 3
   },
   "file_extension": ".py",
   "mimetype": "text/x-python",
   "name": "python",
   "nbconvert_exporter": "python",
   "pygments_lexer": "ipython3",
   "version": "3.7.9"
  }
 },
 "nbformat": 4,
 "nbformat_minor": 4
}
