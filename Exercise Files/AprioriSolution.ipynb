{
 "cells": [
  {
   "cell_type": "markdown",
   "metadata": {},
   "source": [
    "# APRIORI SOLUTION\n",
    "\n",
    "**File:** AprioriSolution.ipynb\n",
    "\n",
    "**Course:** Data Science Foundations: Data Mining in Python"
   ]
  },
  {
   "cell_type": "markdown",
   "metadata": {},
   "source": [
    "# CHALLENGE\n",
    "\n",
    "In this challenge, I invite you to do the following:\n",
    "\n",
    "1. Import and prepare the dataset `Epub.csv`.\n",
    "1. Apply the apriori algorithm to the data.\n",
    "1. List the rules in a readable table.\n",
    "1. Plot the rules."
   ]
  },
  {
   "cell_type": "markdown",
   "metadata": {},
   "source": [
    "# INSTALL AND IMPORT LIBRARIES\n",
    "The Python library `apyori` contains the implementation of the Apriori algorithm, which can be installed with Python's `pip` command. This command only needs to be done once per machine.\n",
    "\n",
    "The standard, shorter approach may work:"
   ]
  },
  {
   "cell_type": "code",
   "execution_count": null,
   "metadata": {},
   "outputs": [],
   "source": [
    "# pip install apyori"
   ]
  },
  {
   "cell_type": "markdown",
   "metadata": {},
   "source": [
    "If the above command didn't work, it may be necessary to be more explicit, in which case you could run the code below."
   ]
  },
  {
   "cell_type": "code",
   "execution_count": null,
   "metadata": {},
   "outputs": [],
   "source": [
    "# import sys\n",
    "# !{sys.executable} -m pip install apyori"
   ]
  },
  {
   "cell_type": "markdown",
   "metadata": {},
   "source": [
    "Once `apyori` is installed, then load the libraries below."
   ]
  },
  {
   "cell_type": "code",
   "execution_count": null,
   "metadata": {},
   "outputs": [],
   "source": [
    "import pandas as pd              # For dataframes\n",
    "import matplotlib.pyplot as plt  # For plotting data\n",
    "from apyori import apriori       # For Apriori algorithm"
   ]
  },
  {
   "cell_type": "markdown",
   "metadata": {},
   "source": [
    "# LOAD AND PREPARE DATA\n",
    "\n",
    "For this demonstration, we'll use the dataset `Epub.csv`, which comes from the R package `arules` and is saved as a CSV file. The data is in transactional format (as opposed to tabular format), which means that each row is a list of items purchased together and that the items may be in different order. There are 58 columns in each row, each column either contains a document ID or no data. (This dataset differs from theh `Groceries` dataset in that it does not use `NaN` for blank cells, which makes the data file much smaller.)\n",
    "\n",
    "The code below opens the dataset and converts to to list format, which is necessary for the `apriori()` function.\n",
    "\n",
    "## Data Source\n",
    "\n",
    "The Epub data set contains the download history of documents from the electronic publication platform of the Vienna University of Economics and Business Administration. The data was recorded between Jan 2003 and Dec 2008. The dataset was provided by Michael Hahsler from ePub-WU at http://epub.wu-wien.ac.at and is included in the R package `arules`.\n"
   ]
  },
  {
   "cell_type": "code",
   "execution_count": null,
   "metadata": {},
   "outputs": [],
   "source": [
    "transactions = []\n",
    "\n",
    "with open('data/Epub.csv') as f:\n",
    "    for line in f:\n",
    "        transaction = [item for item in line.strip().split(',') if item != 'NaN']\n",
    "        transactions.append(transaction)\n",
    "    \n",
    "transactions[:3]"
   ]
  },
  {
   "cell_type": "markdown",
   "metadata": {},
   "source": [
    "# APPLY APRIORI\n",
    "\n",
    "Call `apriori()` on `transactions`. As parameters `apriori()` can take the minimum support, minimum confidence, minimum lift and minimum items in a transaction. Only the pairs of items that satisfy these criteria would be returned."
   ]
  },
  {
   "cell_type": "code",
   "execution_count": null,
   "metadata": {},
   "outputs": [],
   "source": [
    "rules = list(apriori(\n",
    "    transactions, \n",
    "    min_support=0.001, \n",
    "    min_confidence=0.10,\n",
    "    min_length=2,\n",
    "    max_length=2))\n",
    "\n",
    "# Prints one rule\n",
    "print(rules[0])"
   ]
  },
  {
   "cell_type": "markdown",
   "metadata": {},
   "source": [
    "## Convert Rules to Readable Format\n",
    "The printed rule above is not very clear. Let's convert it to a more readable format. We'll add a `From` and `To` field to the DataFrame, to indicate a rule's antecedent and consequent respectively. Hence for a rule of the form `A->B`. The `From` will contain `A` and `To` will contain `B`. We'll also add the `Support`, `Confidence` and `Lift` corresponding to each rule in the DataFrame. "
   ]
  },
  {
   "cell_type": "code",
   "execution_count": null,
   "metadata": {},
   "outputs": [],
   "source": [
    "rules_df = pd.DataFrame(\n",
    "    [{'From': list(rule[0])[0],\n",
    "    'To': list(rule[0])[1],\n",
    "    'Support': rule[1],\n",
    "    'Confidence': rule[2][0][2],\n",
    "    'Lift': rule[2][0][3]} for rule in rules if len(rule[0]) == 2])\n",
    "rules_df = rules_df.dropna()\n",
    "\n",
    "rules_df.head()"
   ]
  },
  {
   "cell_type": "markdown",
   "metadata": {},
   "source": [
    "## List Rules with N's\n",
    "The code below calls `plot()` on each row of the rules DataFrame to create a list of all the mined rules. First, we have to add two numeric columns corresponding to each item to `rules_df`."
   ]
  },
  {
   "cell_type": "code",
   "execution_count": null,
   "metadata": {},
   "outputs": [],
   "source": [
    "# Pick top rules\n",
    "rules_df = rules_df.sort_values('Support', ascending=False).head(50)\n",
    "\n",
    "# List of all items\n",
    "items = set(rules_df['From']) | set(rules_df['To'])\n",
    "\n",
    "# Creates a mapping of items to numbers\n",
    "imap = {item : i for i, item in enumerate(items)}\n",
    "\n",
    "# Maps the items to numbers and adds the numeric 'FromN' and 'ToN' columns\n",
    "rules_df['FromN'] = rules_df['From'].map(imap)\n",
    "rules_df['ToN'] = rules_df['To'].map(imap)\n",
    "\n",
    "# Displays the top 20 association rules, sorted by Support\n",
    "rules_df.head(20)"
   ]
  },
  {
   "cell_type": "markdown",
   "metadata": {},
   "source": [
    "## Plot Rules\n",
    "Plot each pair of items in the rule. If a rule is A->B, then the item A is in the bottom row of the plot (y=0) and B is in the top row (y=1). The color of each line indicates the support of the rule multiplied by 100 (support*100). The width of each line is controlled by the confidence of each rule."
   ]
  },
  {
   "cell_type": "code",
   "execution_count": null,
   "metadata": {},
   "outputs": [],
   "source": [
    "# Adds ticks to the top of the graph also\n",
    "plt.rcParams['xtick.top'] = plt.rcParams['xtick.labeltop'] = True\n",
    "\n",
    "# Sets the size of the plot\n",
    "fig = plt.figure(figsize=(15, 7))\n",
    "\n",
    "# Draws a line between items for each rule\n",
    "# Colors each line according to the support of the rule\n",
    "for index, row in rules_df.head(20).iterrows():\n",
    "    plt.plot([row['FromN'], row['ToN']], [0, 1], 'o-',\n",
    "             c=plt.cm.viridis(row['Support'] * 10),\n",
    "             markersize=20,\n",
    "             lw=row['Confidence'] * 10)\n",
    "\n",
    "# Adds a colorbar and its title  \n",
    "cb = plt.colorbar(plt.cm.ScalarMappable(cmap='viridis'))\n",
    "cb.set_label('Support*10')\n",
    "\n",
    "# Adds labels to xticks and removes yticks\n",
    "plt.xticks(range(len(items)), items, rotation='vertical')\n",
    "plt.yticks([])\n",
    "plt.show()"
   ]
  },
  {
   "cell_type": "markdown",
   "metadata": {},
   "source": [
    "# CLEAN UP\n",
    "\n",
    "- If desired, clear the results with Cell > All Output > Clear. \n",
    "- Save your work by selecting File > Save and Checkpoint.\n",
    "- Shut down the Python kernel and close the file by selecting File > Close and Halt."
   ]
  }
 ],
 "metadata": {
  "kernelspec": {
   "display_name": "Python 3",
   "language": "python",
   "name": "python3"
  },
  "language_info": {
   "codemirror_mode": {
    "name": "ipython",
    "version": 3
   },
   "file_extension": ".py",
   "mimetype": "text/x-python",
   "name": "python",
   "nbconvert_exporter": "python",
   "pygments_lexer": "ipython3",
   "version": "3.7.9"
  }
 },
 "nbformat": 4,
 "nbformat_minor": 4
}
