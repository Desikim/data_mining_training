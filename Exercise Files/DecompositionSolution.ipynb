{
 "cells": [
  {
   "cell_type": "markdown",
   "metadata": {},
   "source": [
    "# TIME-SERIES DECOMPOSITION SOLUTION\n",
    "\n",
    "**File:** DecompositionSolution.ipynb\n",
    "\n",
    "**Course:** Data Science Foundations: Data Mining in Python"
   ]
  },
  {
   "cell_type": "markdown",
   "metadata": {},
   "source": [
    "# CHALLENGE\n",
    "\n",
    "In this challenge, I invite you to do the following:\n",
    "\n",
    "1. Import and prepare the dataset `EuStockMarkets.csv`.\n",
    "1. Plot the data.\n",
    "1. Conduct an additive decomposition analysis on the data.\n",
    "1. Conduct an multiplicative decomposition analysis on the data."
   ]
  },
  {
   "cell_type": "markdown",
   "metadata": {},
   "source": [
    "# IMPORT LIBRARIES"
   ]
  },
  {
   "cell_type": "code",
   "execution_count": null,
   "metadata": {},
   "outputs": [],
   "source": [
    "import pandas as pd\n",
    "import numpy as np\n",
    "from matplotlib import pyplot as plt\n",
    "from matplotlib.dates import DateFormatter\n",
    "from statsmodels.tsa.seasonal import seasonal_decompose"
   ]
  },
  {
   "cell_type": "markdown",
   "metadata": {},
   "source": [
    "# LOAD AND PREPARE DATA\n",
    "\n",
    "For this demonstration, we'll use the dataset `EuStockMarkets.csv`, which comes from the R package `EuStockMarkets` and is saved as a CSV file. This dataset gives the daily closing prices of four major European stock indices: Germany's DAX (Ibis), Switzerland's SMI, France's CAC, and the UK's FTSE from 1991 to 1998. I have made two changes to the data:\n",
    "\n",
    "1. Because decomposition is easiest with just one time series (as opposed to four), I included only France's CAC (\"Cotation Assistée en Continu\" or \"continuous assisted trading\").\n",
    "1. To make this challenge more similar to the earlier demonstration of decomposition, I have included data from just the last trading day of each month, as opposed to every trading day.\n",
    "\n",
    "## Data Source\n",
    "\n",
    "This dataset was provided by provided by Erste Bank AG, Vienna, Austria and is included in the R package `EuStockMarkets`."
   ]
  },
  {
   "cell_type": "code",
   "execution_count": null,
   "metadata": {},
   "outputs": [],
   "source": [
    "df = pd.read_csv('data/EuStockMarkets.csv', parse_dates=['Month'], index_col=['Month'])\n",
    "\n",
    "df.head()"
   ]
  },
  {
   "cell_type": "markdown",
   "metadata": {},
   "source": [
    "# PLOT DATA"
   ]
  },
  {
   "cell_type": "code",
   "execution_count": null,
   "metadata": {},
   "outputs": [],
   "source": [
    "fig, ax = plt.subplots()\n",
    "plt.xlabel('Date')\n",
    "plt.ylabel('CAC Value')\n",
    "plt.title('CAC Value at End of Month')\n",
    "plt.plot(df, color='black')\n",
    "ax.xaxis.set_major_formatter(DateFormatter('%Y'))"
   ]
  },
  {
   "cell_type": "markdown",
   "metadata": {},
   "source": [
    "# DECOMPOSE TIME SERIES"
   ]
  },
  {
   "cell_type": "markdown",
   "metadata": {},
   "source": [
    "- Decompose the time series into three components: trend, seasonal, and residuals or noise.\n",
    "- This commands also plots the components. \n",
    "- The argument `period` specifies that there are 12 observations (i.e., months) in the cycle.\n",
    "- By default, `seasonal_decompose` performs an additive (as opposed to multiplicative) decomposition."
   ]
  },
  {
   "cell_type": "code",
   "execution_count": null,
   "metadata": {},
   "outputs": [],
   "source": [
    "# Set the figure size\n",
    "plt.rcParams['figure.figsize'] = [7, 8]\n",
    "\n",
    "# Plot the decomposition components\n",
    "sd = seasonal_decompose(df, period=12).plot()"
   ]
  },
  {
   "cell_type": "markdown",
   "metadata": {},
   "source": [
    "- For growth over time, it may be more appropriate to use a multiplicative trend.\n",
    "- The approach can show consistent changes by percentage.\n",
    "- In this approach, the residuals should be centered on 1 instead of 0."
   ]
  },
  {
   "cell_type": "code",
   "execution_count": null,
   "metadata": {},
   "outputs": [],
   "source": [
    "sd = seasonal_decompose(df, model='multiplicative', period=12).plot()"
   ]
  },
  {
   "cell_type": "markdown",
   "metadata": {},
   "source": [
    "# CLEAN UP\n",
    "\n",
    "- If desired, clear the results with Cell > All Output > Clear. \n",
    "- Save your work by selecting File > Save and Checkpoint.\n",
    "- Shut down the Python kernel and close the file by selecting File > Close and Halt."
   ]
  }
 ],
 "metadata": {
  "kernelspec": {
   "display_name": "Python 3",
   "language": "python",
   "name": "python3"
  },
  "language_info": {
   "codemirror_mode": {
    "name": "ipython",
    "version": 3
   },
   "file_extension": ".py",
   "mimetype": "text/x-python",
   "name": "python",
   "nbconvert_exporter": "python",
   "pygments_lexer": "ipython3",
   "version": "3.7.9"
  }
 },
 "nbformat": 4,
 "nbformat_minor": 4
}
